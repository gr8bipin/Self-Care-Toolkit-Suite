{
 "cells": [
  {
   "cell_type": "markdown",
   "metadata": {},
   "source": [
    "#Algorithm:\n",
    "\n",
    "# Store a list of affirmations.\n",
    "# Generate a random index within the range of the list's length.\n",
    "# Retrieve the affirmation at that random index.\n",
    "# Display the affirmation."
   ]
  },
  {
   "cell_type": "code",
   "execution_count": 5,
   "metadata": {},
   "outputs": [
    {
     "name": "stdout",
     "output_type": "stream",
     "text": [
      "\n",
      "Affirmation Generator Menu:\n",
      "1. Generate an affirmation\n",
      "2. Add an affirmation\n",
      "3. Exit\n",
      "['I am worthy of love and happiness.', 'I am capable of achieving my goals.', 'I am strong and resilient.', 'I believe in myself.', 'I am grateful for all the good in my life.', 'Every day is a fresh start.', 'I choose peace and joy.', '\"I love my family.\"']\n",
      "Affirmation added!\n",
      "\n",
      "Affirmation Generator Menu:\n",
      "1. Generate an affirmation\n",
      "2. Add an affirmation\n",
      "3. Exit\n",
      "['I am worthy of love and happiness.', 'I am capable of achieving my goals.', 'I am strong and resilient.', 'I believe in myself.', 'I am grateful for all the good in my life.', 'Every day is a fresh start.', 'I choose peace and joy.', '\"I love my family.\"', 'I love coding.']\n",
      "Affirmation added!\n",
      "\n",
      "Affirmation Generator Menu:\n",
      "1. Generate an affirmation\n",
      "2. Add an affirmation\n",
      "3. Exit\n"
     ]
    }
   ],
   "source": [
    "import random\n",
    "\n",
    "affirmations = [\n",
    "    \"I am worthy of love and happiness.\",\n",
    "    \"I am capable of achieving my goals.\",\n",
    "    \"I am strong and resilient.\",\n",
    "    \"I believe in myself.\",\n",
    "    \"I am grateful for all the good in my life.\",\n",
    "    \"Every day is a fresh start.\",\n",
    "    \"I choose peace and joy.\"\n",
    "]\n",
    "\n",
    "def generate_affirmation():\n",
    "    random_index = random.randint(0, len(affirmations) - 1)\n",
    "    return affirmations[random_index]\n",
    "\n",
    "def add_affirmation():\n",
    "    new_affirmation = input(\"Enter a new affirmation: \")\n",
    "    affirmations.append(new_affirmation)\n",
    "    print(affirmations)\n",
    "    print(\"Affirmation added!\")\n",
    "\n",
    "while True:\n",
    "    print(\"\\nAffirmation Generator Menu:\")\n",
    "    print(\"1. Generate an affirmation\")\n",
    "    print(\"2. Add an affirmation\")\n",
    "    print(\"3. Exit\")\n",
    "\n",
    "    choice = input(\"Enter your choice: \")\n",
    "\n",
    "    if choice == '1':\n",
    "        print(generate_affirmation())\n",
    "    elif choice == '2':\n",
    "        add_affirmation()\n",
    "    elif choice == '3':\n",
    "        break\n",
    "    else:\n",
    "        print(\"Invalid Choice. Please try again.\")"
   ]
  }
 ],
 "metadata": {
  "kernelspec": {
   "display_name": "venv",
   "language": "python",
   "name": "python3"
  },
  "language_info": {
   "codemirror_mode": {
    "name": "ipython",
    "version": 3
   },
   "file_extension": ".py",
   "mimetype": "text/x-python",
   "name": "python",
   "nbconvert_exporter": "python",
   "pygments_lexer": "ipython3",
   "version": "3.12.3"
  }
 },
 "nbformat": 4,
 "nbformat_minor": 2
}
