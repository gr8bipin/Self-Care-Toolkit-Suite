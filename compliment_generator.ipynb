{
 "cells": [
  {
   "cell_type": "code",
   "execution_count": 9,
   "metadata": {},
   "outputs": [
    {
     "name": "stdout",
     "output_type": "stream",
     "text": [
      "Here's a compliment for you:\n",
      "You have a great sense of humor!\n"
     ]
    }
   ],
   "source": [
    "## Compliment Generator\n",
    "\n",
    "##Overview: Build a program that gives the user a random compliment to boost their mood.\n",
    "##Steps:\n",
    "#Create a list of compliments.\n",
    "#Randomly display one each time the program runs.\n",
    "\n",
    "import random\n",
    "\n",
    "compliments = [\n",
    "    \"You have a great sense of humor!\",\n",
    "    \"You are an amazing person!\",\n",
    "    \"Your smile lights up the room.\",\n",
    "    \"You are so creative!\",\n",
    "    \"You are making a difference in the world.\"\n",
    "]\n",
    "\n",
    "print(\"Here's a compliment for you:\")\n",
    "print(random.choice(compliments))"
   ]
  }
 ],
 "metadata": {
  "kernelspec": {
   "display_name": "venv",
   "language": "python",
   "name": "python3"
  },
  "language_info": {
   "codemirror_mode": {
    "name": "ipython",
    "version": 3
   },
   "file_extension": ".py",
   "mimetype": "text/x-python",
   "name": "python",
   "nbconvert_exporter": "python",
   "pygments_lexer": "ipython3",
   "version": "3.12.3"
  }
 },
 "nbformat": 4,
 "nbformat_minor": 2
}
