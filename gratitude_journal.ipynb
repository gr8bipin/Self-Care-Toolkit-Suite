{
 "cells": [
  {
   "cell_type": "code",
   "execution_count": null,
   "metadata": {},
   "outputs": [],
   "source": [
    "## Grtitude Journal\n",
    "\n",
    "##Overview: Allow users to input things they're grateful for.\n",
    "\n",
    "##Steps:\n",
    "# Ask the user to input three things they're grateful for.\n",
    "# Save the input in a .txt file.\n",
    "\n",
    "print(\"Gratitude Journal:\")\n",
    "\n",
    "gratitude1 = input(\"What is the first thing you are grateful for? \")\n",
    "gratitude2 = input(\"What is the second thing you are grateful for? \")\n",
    "gratitude3 = input(\"What is the third thing you are grateful for? \")\n",
    "\n",
    "with open(\"gratitude.txt\", \"a\") as file:\n",
    "    file.write(f\"{gratitude1}\\n{gratitude2}\\n{gratitude3}\")\n",
    "\n",
    "print(\"Your gratitude has been saved. Have a wonderful day!\")"
   ]
  }
 ],
 "metadata": {
  "language_info": {
   "name": "python"
  }
 },
 "nbformat": 4,
 "nbformat_minor": 2
}
