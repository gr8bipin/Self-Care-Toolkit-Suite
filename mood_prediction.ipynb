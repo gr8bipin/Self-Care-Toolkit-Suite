{
 "cells": [
  {
   "cell_type": "markdown",
   "metadata": {},
   "source": [
    "# Step 1:\n",
    "\n",
    "# Creating a Dataset with Random Data\n",
    "\n",
    "# If you need larger synthetic data, you can generate it randomly.\n",
    "\n",
    "# Example: Generate 30 Days of Random Bipolar Disorder Data"
   ]
  },
  {
   "cell_type": "code",
   "execution_count": 31,
   "metadata": {},
   "outputs": [],
   "source": [
    "import pandas as pd\n",
    "import numpy as np"
   ]
  },
  {
   "cell_type": "code",
   "execution_count": 32,
   "metadata": {},
   "outputs": [
    {
     "name": "stdout",
     "output_type": "stream",
     "text": [
      "Random dataset saved as 'random_bipolar_data.csv'.\n"
     ]
    }
   ],
   "source": [
    "# Generate 30 days of data\n",
    "num_days = 30\n",
    "dates = pd.date_range(start=\"2025-03-01\", periods=num_days, freq='D')\n",
    "\n",
    "# Randomly generate values\n",
    "data = {\n",
    "    \"Date\": dates.strftime(\"%Y-%m-%d\"),\n",
    "    \"Mood (1-10)\": np.random.randint(1, 11, num_days), # Mood scale 1 - 10\n",
    "    \"Sleep Hours\": np.random.uniform(4, 9, num_days), # Sleep between 4 - 9 hours\n",
    "    \"Medication Taken (Yes/No)\": np.random.choice([\"Yes\", \"No\"], num_days),\n",
    "    \"Exercise (Yes/No)\": np.random.choice([\"Yes\", \"No\"], num_days),\n",
    "    \"Stress Level (1 - 10)\": np.random.randint(1, 11, num_days)\n",
    "}\n",
    "\n",
    "# Convert to DataFrame\n",
    "df = pd.DataFrame(data)\n",
    "\n",
    "# Save dataset\n",
    "df.to_csv(\"/home/bipinhyoju/Documents/random_bipolar_data.csv\", index= False)\n",
    "\n",
    "print(\"Random dataset saved as 'random_bipolar_data.csv'.\")\n",
    "\n",
    "# Notes:\n",
    "    # Generates 30 days of mood tracking data\n",
    "    # Uses random values to simulate real-life variations"
   ]
  },
  {
   "cell_type": "markdown",
   "metadata": {},
   "source": [
    "# Step 2: Optimizing the data"
   ]
  },
  {
   "cell_type": "code",
   "execution_count": 33,
   "metadata": {},
   "outputs": [],
   "source": [
    "\n",
    "# Here's a Python script to optimize the dataset\n",
    "\n",
    "import pandas as pd\n",
    "import numpy as np\n",
    "\n",
    "# Load the Random Bipolar Disorder Data\n",
    "df = pd.read_csv(\"/home/bipinhyoju/Documents/random_bipolar_data.csv\")\n",
    "\n",
    "\n",
    "# Normalize stress level (0 to 1 for AI)\n",
    "df[\"Stress Level (1 - 10)\"] = df[\"Stress Level (1 - 10)\"] / 10.0\n",
    "\n",
    "# Convert Medication Taken (Yes/ No) column to binary (1= Yes, 0=No)\n",
    "df[\"Medication Taken (Yes/No)\"] = df[\"Medication Taken (Yes/No)\"].map({\"Yes\": 1, \"No\": 0})\n",
    "\n",
    "# Convert Exercise column to binary (1= Yes, 0=No)\n",
    "df[\"Exercise (Yes/No)\"] = df[\"Exercise (Yes/No)\"].map({\"Yes\": 1, \"No\": 0})\n",
    "\n",
    "# Save the optimized data\n",
    "df.to_csv(\"/home/bipinhyoju/Documents/optimized_bipolar_data.csv\")\n"
   ]
  },
  {
   "cell_type": "markdown",
   "metadata": {},
   "source": [
    "# Step 4: Using the Optimized Data in AI\n",
    "\n",
    "# Now, this optimized data can be used in an AI model (like a neural network) to predict mood fluctuations and alert patients in advance.\n",
    "\n"
   ]
  },
  {
   "cell_type": "code",
   "execution_count": 34,
   "metadata": {},
   "outputs": [
    {
     "name": "stdout",
     "output_type": "stream",
     "text": [
      "AI Mood Predictions: [5.53 4.66 5.38 5.53 7.1  6.98]\n"
     ]
    }
   ],
   "source": [
    "from sklearn.model_selection import train_test_split\n",
    "from sklearn.ensemble import RandomForestRegressor\n",
    "\n",
    "# Load optimized data\n",
    "df = pd.read_csv(\"/home/bipinhyoju/Documents/optimized_bipolar_data.csv\")\n",
    "\n",
    "# Prepare features (X) and target (y)\n",
    "X = df.drop(columns=[\"Mood (1-10)\", \"Date\"])  # Features\n",
    "y = df[\"Mood (1-10)\"]  # Target variable\n",
    "\n",
    "# Split into train-test sets\n",
    "X_train, X_test, y_train, y_test = train_test_split(X, y, test_size=0.2, random_state=42)\n",
    "\n",
    "# Train a basic AI model\n",
    "model = RandomForestRegressor(n_estimators=100, random_state=42)\n",
    "model.fit(X_train, y_train)\n",
    "\n",
    "# Predict mood levels for future dates\n",
    "predictions = model.predict(X_test)\n",
    "\n",
    "print(\"AI Mood Predictions:\", predictions)\n"
   ]
  }
 ],
 "metadata": {
  "kernelspec": {
   "display_name": "venv",
   "language": "python",
   "name": "python3"
  },
  "language_info": {
   "codemirror_mode": {
    "name": "ipython",
    "version": 3
   },
   "file_extension": ".py",
   "mimetype": "text/x-python",
   "name": "python",
   "nbconvert_exporter": "python",
   "pygments_lexer": "ipython3",
   "version": "3.12.3"
  }
 },
 "nbformat": 4,
 "nbformat_minor": 2
}
